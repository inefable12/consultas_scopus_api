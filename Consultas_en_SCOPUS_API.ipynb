{
  "cells": [
    {
      "cell_type": "markdown",
      "metadata": {
        "id": "view-in-github",
        "colab_type": "text"
      },
      "source": [
        "<a href=\"https://colab.research.google.com/github/inefable12/consultas_scopus_api/blob/main/Consultas_en_SCOPUS_API.ipynb\" target=\"_parent\"><img src=\"https://colab.research.google.com/assets/colab-badge.svg\" alt=\"Open In Colab\"/></a>"
      ]
    },
    {
      "cell_type": "markdown",
      "source": [
        "Autor: Jesus Alvarado-Huayhuaz\n",
        "\n",
        "inefable12@gmail.com"
      ],
      "metadata": {
        "id": "ZXM5LuB1muHw"
      }
    },
    {
      "cell_type": "markdown",
      "metadata": {
        "id": "JKINnmKJVq8F"
      },
      "source": [
        "# Requerimientos"
      ]
    },
    {
      "cell_type": "markdown",
      "metadata": {
        "id": "YAt5SA7jBTAH"
      },
      "source": [
        "## PyScopus"
      ]
    },
    {
      "cell_type": "code",
      "execution_count": 1,
      "metadata": {
        "id": "Iq7V-BoQVjKW",
        "colab": {
          "base_uri": "https://localhost:8080/"
        },
        "outputId": "ce89cd4b-d199-46d1-92af-7c9469246e4d"
      },
      "outputs": [
        {
          "output_type": "stream",
          "name": "stdout",
          "text": [
            "Collecting pyscopus==1.0.3a2\n",
            "  Downloading pyscopus-1.0.3a2-py3-none-any.whl (11 kB)\n",
            "Installing collected packages: pyscopus\n",
            "Successfully installed pyscopus-1.0.3a2\n"
          ]
        }
      ],
      "source": [
        "!pip install pyscopus==1.0.3a2"
      ]
    },
    {
      "cell_type": "markdown",
      "metadata": {
        "id": "psphRcwyCM_d"
      },
      "source": [
        "Librerías\n",
        "\n"
      ]
    },
    {
      "cell_type": "code",
      "execution_count": 2,
      "metadata": {
        "id": "DuGPf6TYZBmi"
      },
      "outputs": [],
      "source": [
        "from pyscopus import Scopus\n",
        "import numpy\n",
        "import pandas\n",
        "import requests"
      ]
    },
    {
      "cell_type": "markdown",
      "metadata": {
        "id": "7CxyvQXbCT4B"
      },
      "source": [
        "### Enlace del Colab con Scopus (API KEY)\n",
        "\n",
        "*   El usuario debe disponer de una clave **personal**\n",
        "*   Más información en https://dev.elsevier.com/\n",
        "\n",
        "\n"
      ]
    },
    {
      "cell_type": "code",
      "execution_count": 4,
      "metadata": {
        "id": "F18Z0siiZQ3t"
      },
      "outputs": [],
      "source": [
        "key = \"tu_clave_personal\"\n",
        "scopus = Scopus(key)"
      ]
    },
    {
      "cell_type": "markdown",
      "source": [
        "## Búsqueda:\n",
        "\n",
        "Ejemplo:\n",
        "\n",
        "TITLE-ABS-KEY(((\"oxytocin\") AND (\"cheminformatics\") AND (\"docking\")) OR (\"oxytocin\" AND \"dog\" AND \"docking\")  OR (\"oxytocin\" AND \"virtual\" AND \"simulations\"))"
      ],
      "metadata": {
        "id": "bHUT8oSXcHlM"
      }
    },
    {
      "cell_type": "code",
      "execution_count": 26,
      "metadata": {
        "id": "kuvZBLliTUZy",
        "colab": {
          "base_uri": "https://localhost:8080/"
        },
        "outputId": "70286d1e-c656-4d6c-9f01-71e10b6b43c2"
      },
      "outputs": [
        {
          "name": "stdout",
          "output_type": "stream",
          "text": [
            "Ingresa tus palabras de búsqueda: TITLE-ABS-KEY(((\"oxytocin\") AND (\"cheminformatics\") AND (\"docking\")) OR (\"oxytocin\" AND \"dog\" AND \"docking\") OR (\"oxytocin\" AND \"virtual\" AND \"simulations\"))\n"
          ]
        }
      ],
      "source": [
        "s = input(\"Ingresa tus palabras de búsqueda: \")\n",
        "search_df = scopus.search(s, count=200,view='STANDARD')"
      ]
    },
    {
      "cell_type": "code",
      "source": [
        "from IPython.display import display\n",
        "display(search_df)"
      ],
      "metadata": {
        "colab": {
          "base_uri": "https://localhost:8080/",
          "height": 622
        },
        "id": "DBeWOxmnsX9G",
        "outputId": "bc08f6a8-6932-4a0d-d219-7f27832bf55e"
      },
      "execution_count": 27,
      "outputs": [
        {
          "output_type": "display_data",
          "data": {
            "text/plain": [
              "     scopus_id                                              title  \\\n",
              "0  85146322298  Structure based Drug Designing Approaches in S...   \n",
              "1  85106770529  In-silico screening of bioactive phytopeptides...   \n",
              "2  85122846488  Structure-Based Virtual Screening for Ligands ...   \n",
              "3  84955104064  Computational approaches to developing short c...   \n",
              "4  84861781307  Real-time human-robot interaction underlying n...   \n",
              "5  33749241358  A fast surface-matching procedure for protein-...   \n",
              "\n",
              "                                 publication_name      issn  isbn     eissn  \\\n",
              "0           Current Topics in Medicinal Chemistry  15680266  None  18734294   \n",
              "1  Journal of Biomolecular Structure and Dynamics  07391102  None  15380254   \n",
              "2                         Pharmacological Reviews  00316997  None  15210081   \n",
              "3                    Methods in Molecular Biology  10643745  None      None   \n",
              "4                                 Neural Networks  08936080  None  18792782   \n",
              "5                   Journal of Molecular Modeling  16102940  None  09485023   \n",
              "\n",
              "  volume page_range  cover_date                                doi  \\\n",
              "0     22  2396-2409  2022-11-01  10.2174/1568026623666221103091658   \n",
              "1     40  4475-4487  2022-01-01      10.1080/07391102.2020.1859411   \n",
              "2     73    527-656  2021-10-01        10.1124/PHARMREV.120.000246   \n",
              "3   1268    241-271  2015-01-01       10.1007/978-1-4939-2285-7_11   \n",
              "4     32    130-137  2012-08-01       10.1016/j.neunet.2012.02.029   \n",
              "5     12    965-972  2006-09-01          10.1007/s00894-006-0109-z   \n",
              "\n",
              "   citation_count                                        affiliation  \\\n",
              "0               1  [{'name': 'Indian Institute of Technology Madr...   \n",
              "1               4  [{'name': 'Khulna University', 'city': 'Khulna...   \n",
              "2              33  [{'name': 'Uppsala Universitet', 'city': 'Upps...   \n",
              "3              22                                               None   \n",
              "4               5  [{'name': 'University of Nevada, Reno', 'city'...   \n",
              "5              13  [{'name': 'Empresa Brasileira de Pesquisa Agro...   \n",
              "\n",
              "  aggregation_type subtype_description authors  \\\n",
              "0          Journal              Review      []   \n",
              "1          Journal             Article      []   \n",
              "2          Journal             Article      []   \n",
              "3      Book Series             Article      []   \n",
              "4          Journal             Article      []   \n",
              "5          Journal             Article      []   \n",
              "\n",
              "                                           full_text  \n",
              "0                                               None  \n",
              "1                                               None  \n",
              "2                                               None  \n",
              "3                                               None  \n",
              "4  https://api.elsevier.com/content/article/eid/1...  \n",
              "5                                               None  "
            ],
            "text/html": [
              "\n",
              "  <div id=\"df-c0fd86b6-855a-4cea-a088-a01d341c52de\" class=\"colab-df-container\">\n",
              "    <div>\n",
              "<style scoped>\n",
              "    .dataframe tbody tr th:only-of-type {\n",
              "        vertical-align: middle;\n",
              "    }\n",
              "\n",
              "    .dataframe tbody tr th {\n",
              "        vertical-align: top;\n",
              "    }\n",
              "\n",
              "    .dataframe thead th {\n",
              "        text-align: right;\n",
              "    }\n",
              "</style>\n",
              "<table border=\"1\" class=\"dataframe\">\n",
              "  <thead>\n",
              "    <tr style=\"text-align: right;\">\n",
              "      <th></th>\n",
              "      <th>scopus_id</th>\n",
              "      <th>title</th>\n",
              "      <th>publication_name</th>\n",
              "      <th>issn</th>\n",
              "      <th>isbn</th>\n",
              "      <th>eissn</th>\n",
              "      <th>volume</th>\n",
              "      <th>page_range</th>\n",
              "      <th>cover_date</th>\n",
              "      <th>doi</th>\n",
              "      <th>citation_count</th>\n",
              "      <th>affiliation</th>\n",
              "      <th>aggregation_type</th>\n",
              "      <th>subtype_description</th>\n",
              "      <th>authors</th>\n",
              "      <th>full_text</th>\n",
              "    </tr>\n",
              "  </thead>\n",
              "  <tbody>\n",
              "    <tr>\n",
              "      <th>0</th>\n",
              "      <td>85146322298</td>\n",
              "      <td>Structure based Drug Designing Approaches in S...</td>\n",
              "      <td>Current Topics in Medicinal Chemistry</td>\n",
              "      <td>15680266</td>\n",
              "      <td>None</td>\n",
              "      <td>18734294</td>\n",
              "      <td>22</td>\n",
              "      <td>2396-2409</td>\n",
              "      <td>2022-11-01</td>\n",
              "      <td>10.2174/1568026623666221103091658</td>\n",
              "      <td>1</td>\n",
              "      <td>[{'name': 'Indian Institute of Technology Madr...</td>\n",
              "      <td>Journal</td>\n",
              "      <td>Review</td>\n",
              "      <td>[]</td>\n",
              "      <td>None</td>\n",
              "    </tr>\n",
              "    <tr>\n",
              "      <th>1</th>\n",
              "      <td>85106770529</td>\n",
              "      <td>In-silico screening of bioactive phytopeptides...</td>\n",
              "      <td>Journal of Biomolecular Structure and Dynamics</td>\n",
              "      <td>07391102</td>\n",
              "      <td>None</td>\n",
              "      <td>15380254</td>\n",
              "      <td>40</td>\n",
              "      <td>4475-4487</td>\n",
              "      <td>2022-01-01</td>\n",
              "      <td>10.1080/07391102.2020.1859411</td>\n",
              "      <td>4</td>\n",
              "      <td>[{'name': 'Khulna University', 'city': 'Khulna...</td>\n",
              "      <td>Journal</td>\n",
              "      <td>Article</td>\n",
              "      <td>[]</td>\n",
              "      <td>None</td>\n",
              "    </tr>\n",
              "    <tr>\n",
              "      <th>2</th>\n",
              "      <td>85122846488</td>\n",
              "      <td>Structure-Based Virtual Screening for Ligands ...</td>\n",
              "      <td>Pharmacological Reviews</td>\n",
              "      <td>00316997</td>\n",
              "      <td>None</td>\n",
              "      <td>15210081</td>\n",
              "      <td>73</td>\n",
              "      <td>527-656</td>\n",
              "      <td>2021-10-01</td>\n",
              "      <td>10.1124/PHARMREV.120.000246</td>\n",
              "      <td>33</td>\n",
              "      <td>[{'name': 'Uppsala Universitet', 'city': 'Upps...</td>\n",
              "      <td>Journal</td>\n",
              "      <td>Article</td>\n",
              "      <td>[]</td>\n",
              "      <td>None</td>\n",
              "    </tr>\n",
              "    <tr>\n",
              "      <th>3</th>\n",
              "      <td>84955104064</td>\n",
              "      <td>Computational approaches to developing short c...</td>\n",
              "      <td>Methods in Molecular Biology</td>\n",
              "      <td>10643745</td>\n",
              "      <td>None</td>\n",
              "      <td>None</td>\n",
              "      <td>1268</td>\n",
              "      <td>241-271</td>\n",
              "      <td>2015-01-01</td>\n",
              "      <td>10.1007/978-1-4939-2285-7_11</td>\n",
              "      <td>22</td>\n",
              "      <td>None</td>\n",
              "      <td>Book Series</td>\n",
              "      <td>Article</td>\n",
              "      <td>[]</td>\n",
              "      <td>None</td>\n",
              "    </tr>\n",
              "    <tr>\n",
              "      <th>4</th>\n",
              "      <td>84861781307</td>\n",
              "      <td>Real-time human-robot interaction underlying n...</td>\n",
              "      <td>Neural Networks</td>\n",
              "      <td>08936080</td>\n",
              "      <td>None</td>\n",
              "      <td>18792782</td>\n",
              "      <td>32</td>\n",
              "      <td>130-137</td>\n",
              "      <td>2012-08-01</td>\n",
              "      <td>10.1016/j.neunet.2012.02.029</td>\n",
              "      <td>5</td>\n",
              "      <td>[{'name': 'University of Nevada, Reno', 'city'...</td>\n",
              "      <td>Journal</td>\n",
              "      <td>Article</td>\n",
              "      <td>[]</td>\n",
              "      <td>https://api.elsevier.com/content/article/eid/1...</td>\n",
              "    </tr>\n",
              "    <tr>\n",
              "      <th>5</th>\n",
              "      <td>33749241358</td>\n",
              "      <td>A fast surface-matching procedure for protein-...</td>\n",
              "      <td>Journal of Molecular Modeling</td>\n",
              "      <td>16102940</td>\n",
              "      <td>None</td>\n",
              "      <td>09485023</td>\n",
              "      <td>12</td>\n",
              "      <td>965-972</td>\n",
              "      <td>2006-09-01</td>\n",
              "      <td>10.1007/s00894-006-0109-z</td>\n",
              "      <td>13</td>\n",
              "      <td>[{'name': 'Empresa Brasileira de Pesquisa Agro...</td>\n",
              "      <td>Journal</td>\n",
              "      <td>Article</td>\n",
              "      <td>[]</td>\n",
              "      <td>None</td>\n",
              "    </tr>\n",
              "  </tbody>\n",
              "</table>\n",
              "</div>\n",
              "    <div class=\"colab-df-buttons\">\n",
              "\n",
              "  <div class=\"colab-df-container\">\n",
              "    <button class=\"colab-df-convert\" onclick=\"convertToInteractive('df-c0fd86b6-855a-4cea-a088-a01d341c52de')\"\n",
              "            title=\"Convert this dataframe to an interactive table.\"\n",
              "            style=\"display:none;\">\n",
              "\n",
              "  <svg xmlns=\"http://www.w3.org/2000/svg\" height=\"24px\" viewBox=\"0 -960 960 960\">\n",
              "    <path d=\"M120-120v-720h720v720H120Zm60-500h600v-160H180v160Zm220 220h160v-160H400v160Zm0 220h160v-160H400v160ZM180-400h160v-160H180v160Zm440 0h160v-160H620v160ZM180-180h160v-160H180v160Zm440 0h160v-160H620v160Z\"/>\n",
              "  </svg>\n",
              "    </button>\n",
              "\n",
              "  <style>\n",
              "    .colab-df-container {\n",
              "      display:flex;\n",
              "      gap: 12px;\n",
              "    }\n",
              "\n",
              "    .colab-df-convert {\n",
              "      background-color: #E8F0FE;\n",
              "      border: none;\n",
              "      border-radius: 50%;\n",
              "      cursor: pointer;\n",
              "      display: none;\n",
              "      fill: #1967D2;\n",
              "      height: 32px;\n",
              "      padding: 0 0 0 0;\n",
              "      width: 32px;\n",
              "    }\n",
              "\n",
              "    .colab-df-convert:hover {\n",
              "      background-color: #E2EBFA;\n",
              "      box-shadow: 0px 1px 2px rgba(60, 64, 67, 0.3), 0px 1px 3px 1px rgba(60, 64, 67, 0.15);\n",
              "      fill: #174EA6;\n",
              "    }\n",
              "\n",
              "    .colab-df-buttons div {\n",
              "      margin-bottom: 4px;\n",
              "    }\n",
              "\n",
              "    [theme=dark] .colab-df-convert {\n",
              "      background-color: #3B4455;\n",
              "      fill: #D2E3FC;\n",
              "    }\n",
              "\n",
              "    [theme=dark] .colab-df-convert:hover {\n",
              "      background-color: #434B5C;\n",
              "      box-shadow: 0px 1px 3px 1px rgba(0, 0, 0, 0.15);\n",
              "      filter: drop-shadow(0px 1px 2px rgba(0, 0, 0, 0.3));\n",
              "      fill: #FFFFFF;\n",
              "    }\n",
              "  </style>\n",
              "\n",
              "    <script>\n",
              "      const buttonEl =\n",
              "        document.querySelector('#df-c0fd86b6-855a-4cea-a088-a01d341c52de button.colab-df-convert');\n",
              "      buttonEl.style.display =\n",
              "        google.colab.kernel.accessAllowed ? 'block' : 'none';\n",
              "\n",
              "      async function convertToInteractive(key) {\n",
              "        const element = document.querySelector('#df-c0fd86b6-855a-4cea-a088-a01d341c52de');\n",
              "        const dataTable =\n",
              "          await google.colab.kernel.invokeFunction('convertToInteractive',\n",
              "                                                    [key], {});\n",
              "        if (!dataTable) return;\n",
              "\n",
              "        const docLinkHtml = 'Like what you see? Visit the ' +\n",
              "          '<a target=\"_blank\" href=https://colab.research.google.com/notebooks/data_table.ipynb>data table notebook</a>'\n",
              "          + ' to learn more about interactive tables.';\n",
              "        element.innerHTML = '';\n",
              "        dataTable['output_type'] = 'display_data';\n",
              "        await google.colab.output.renderOutput(dataTable, element);\n",
              "        const docLink = document.createElement('div');\n",
              "        docLink.innerHTML = docLinkHtml;\n",
              "        element.appendChild(docLink);\n",
              "      }\n",
              "    </script>\n",
              "  </div>\n",
              "\n",
              "\n",
              "<div id=\"df-8442f2eb-5791-4237-a05d-39627ce404ae\">\n",
              "  <button class=\"colab-df-quickchart\" onclick=\"quickchart('df-8442f2eb-5791-4237-a05d-39627ce404ae')\"\n",
              "            title=\"Suggest charts.\"\n",
              "            style=\"display:none;\">\n",
              "\n",
              "<svg xmlns=\"http://www.w3.org/2000/svg\" height=\"24px\"viewBox=\"0 0 24 24\"\n",
              "     width=\"24px\">\n",
              "    <g>\n",
              "        <path d=\"M19 3H5c-1.1 0-2 .9-2 2v14c0 1.1.9 2 2 2h14c1.1 0 2-.9 2-2V5c0-1.1-.9-2-2-2zM9 17H7v-7h2v7zm4 0h-2V7h2v10zm4 0h-2v-4h2v4z\"/>\n",
              "    </g>\n",
              "</svg>\n",
              "  </button>\n",
              "\n",
              "<style>\n",
              "  .colab-df-quickchart {\n",
              "    background-color: #E8F0FE;\n",
              "    border: none;\n",
              "    border-radius: 50%;\n",
              "    cursor: pointer;\n",
              "    display: none;\n",
              "    fill: #1967D2;\n",
              "    height: 32px;\n",
              "    padding: 0 0 0 0;\n",
              "    width: 32px;\n",
              "  }\n",
              "\n",
              "  .colab-df-quickchart:hover {\n",
              "    background-color: #E2EBFA;\n",
              "    box-shadow: 0px 1px 2px rgba(60, 64, 67, 0.3), 0px 1px 3px 1px rgba(60, 64, 67, 0.15);\n",
              "    fill: #174EA6;\n",
              "  }\n",
              "\n",
              "  [theme=dark] .colab-df-quickchart {\n",
              "    background-color: #3B4455;\n",
              "    fill: #D2E3FC;\n",
              "  }\n",
              "\n",
              "  [theme=dark] .colab-df-quickchart:hover {\n",
              "    background-color: #434B5C;\n",
              "    box-shadow: 0px 1px 3px 1px rgba(0, 0, 0, 0.15);\n",
              "    filter: drop-shadow(0px 1px 2px rgba(0, 0, 0, 0.3));\n",
              "    fill: #FFFFFF;\n",
              "  }\n",
              "</style>\n",
              "\n",
              "  <script>\n",
              "    async function quickchart(key) {\n",
              "      const charts = await google.colab.kernel.invokeFunction(\n",
              "          'suggestCharts', [key], {});\n",
              "    }\n",
              "    (() => {\n",
              "      let quickchartButtonEl =\n",
              "        document.querySelector('#df-8442f2eb-5791-4237-a05d-39627ce404ae button');\n",
              "      quickchartButtonEl.style.display =\n",
              "        google.colab.kernel.accessAllowed ? 'block' : 'none';\n",
              "    })();\n",
              "  </script>\n",
              "</div>\n",
              "    </div>\n",
              "  </div>\n"
            ]
          },
          "metadata": {}
        }
      ]
    },
    {
      "cell_type": "markdown",
      "source": [
        "## Artículos, conference papers, books, etc"
      ],
      "metadata": {
        "id": "RLDZ-7rnD-fL"
      }
    },
    {
      "cell_type": "code",
      "source": [
        "search_df.subtype_description.unique()"
      ],
      "metadata": {
        "colab": {
          "base_uri": "https://localhost:8080/"
        },
        "id": "4Y_2P3I6DxJ_",
        "outputId": "b3567747-b654-43b9-b38e-bad18b9f870c"
      },
      "execution_count": 28,
      "outputs": [
        {
          "output_type": "execute_result",
          "data": {
            "text/plain": [
              "array(['Review', 'Article'], dtype=object)"
            ]
          },
          "metadata": {},
          "execution_count": 28
        }
      ]
    },
    {
      "cell_type": "code",
      "source": [
        "import pandas as pd\n",
        "import seaborn as sns\n",
        "import matplotlib.pyplot as plt\n",
        "import matplotlib.ticker as ticker\n",
        "\n",
        "# Contar las ocurrencias de cada tipo de publicación y ordenar los datos por el índice\n",
        "subtype_description = search_df['subtype_description'].value_counts()\n",
        "\n",
        "# Crear el gráfico de barras con coloración por tipo de publicación\n",
        "ax = sns.barplot(x=subtype_description.index, y=subtype_description.values, palette='viridis')\n",
        "\n",
        "# Agregar etiquetas y título\n",
        "plt.ylabel('Cantidad')\n",
        "plt.title('Tipo de publicación')\n",
        "\n",
        "# Formatear el eje y con un decimal\n",
        "ax.yaxis.set_major_formatter(ticker.FormatStrFormatter('%.0f'))\n",
        "\n",
        "# Mostrar el gráfico\n",
        "plt.show()"
      ],
      "metadata": {
        "colab": {
          "base_uri": "https://localhost:8080/",
          "height": 453
        },
        "id": "_gDiQjK_Fv72",
        "outputId": "3e3c0748-c321-4f25-967a-9cde9569a51b"
      },
      "execution_count": 29,
      "outputs": [
        {
          "output_type": "display_data",
          "data": {
            "text/plain": [
              "<Figure size 640x480 with 1 Axes>"
            ],
            "image/png": "[encoded data removed]"
          },
          "metadata": {}
        }
      ]
    },
    {
      "cell_type": "code",
      "source": [
        "import pandas as pd\n",
        "\n",
        "# Dividir la columna \"cover_date\" y crear la columna \"year\"\n",
        "search_df['year'] = search_df['cover_date'].apply(lambda x: x.split('-')[0])"
      ],
      "metadata": {
        "id": "i0MV9pLa0ILs"
      },
      "execution_count": 30,
      "outputs": []
    },
    {
      "cell_type": "code",
      "source": [
        "search_df.head(3)"
      ],
      "metadata": {
        "colab": {
          "base_uri": "https://localhost:8080/",
          "height": 354
        },
        "id": "GJvK1Fxt0Y-j",
        "outputId": "1a2a7d63-19ba-4d40-a114-fee6e7d90850"
      },
      "execution_count": 31,
      "outputs": [
        {
          "output_type": "execute_result",
          "data": {
            "text/plain": [
              "     scopus_id                                              title  \\\n",
              "0  85146322298  Structure based Drug Designing Approaches in S...   \n",
              "1  85106770529  In-silico screening of bioactive phytopeptides...   \n",
              "2  85122846488  Structure-Based Virtual Screening for Ligands ...   \n",
              "\n",
              "                                 publication_name      issn  isbn     eissn  \\\n",
              "0           Current Topics in Medicinal Chemistry  15680266  None  18734294   \n",
              "1  Journal of Biomolecular Structure and Dynamics  07391102  None  15380254   \n",
              "2                         Pharmacological Reviews  00316997  None  15210081   \n",
              "\n",
              "  volume page_range  cover_date                                doi  \\\n",
              "0     22  2396-2409  2022-11-01  10.2174/1568026623666221103091658   \n",
              "1     40  4475-4487  2022-01-01      10.1080/07391102.2020.1859411   \n",
              "2     73    527-656  2021-10-01        10.1124/PHARMREV.120.000246   \n",
              "\n",
              "   citation_count                                        affiliation  \\\n",
              "0               1  [{'name': 'Indian Institute of Technology Madr...   \n",
              "1               4  [{'name': 'Khulna University', 'city': 'Khulna...   \n",
              "2              33  [{'name': 'Uppsala Universitet', 'city': 'Upps...   \n",
              "\n",
              "  aggregation_type subtype_description authors full_text  year  \n",
              "0          Journal              Review      []      None  2022  \n",
              "1          Journal             Article      []      None  2022  \n",
              "2          Journal             Article      []      None  2021  "
            ],
            "text/html": [
              "\n",
              "  <div id=\"df-1ac116b2-8dfd-4686-bdf7-a19e9cd59d77\" class=\"colab-df-container\">\n",
              "    <div>\n",
              "<style scoped>\n",
              "    .dataframe tbody tr th:only-of-type {\n",
              "        vertical-align: middle;\n",
              "    }\n",
              "\n",
              "    .dataframe tbody tr th {\n",
              "        vertical-align: top;\n",
              "    }\n",
              "\n",
              "    .dataframe thead th {\n",
              "        text-align: right;\n",
              "    }\n",
              "</style>\n",
              "<table border=\"1\" class=\"dataframe\">\n",
              "  <thead>\n",
              "    <tr style=\"text-align: right;\">\n",
              "      <th></th>\n",
              "      <th>scopus_id</th>\n",
              "      <th>title</th>\n",
              "      <th>publication_name</th>\n",
              "      <th>issn</th>\n",
              "      <th>isbn</th>\n",
              "      <th>eissn</th>\n",
              "      <th>volume</th>\n",
              "      <th>page_range</th>\n",
              "      <th>cover_date</th>\n",
              "      <th>doi</th>\n",
              "      <th>citation_count</th>\n",
              "      <th>affiliation</th>\n",
              "      <th>aggregation_type</th>\n",
              "      <th>subtype_description</th>\n",
              "      <th>authors</th>\n",
              "      <th>full_text</th>\n",
              "      <th>year</th>\n",
              "    </tr>\n",
              "  </thead>\n",
              "  <tbody>\n",
              "    <tr>\n",
              "      <th>0</th>\n",
              "      <td>85146322298</td>\n",
              "      <td>Structure based Drug Designing Approaches in S...</td>\n",
              "      <td>Current Topics in Medicinal Chemistry</td>\n",
              "      <td>15680266</td>\n",
              "      <td>None</td>\n",
              "      <td>18734294</td>\n",
              "      <td>22</td>\n",
              "      <td>2396-2409</td>\n",
              "      <td>2022-11-01</td>\n",
              "      <td>10.2174/1568026623666221103091658</td>\n",
              "      <td>1</td>\n",
              "      <td>[{'name': 'Indian Institute of Technology Madr...</td>\n",
              "      <td>Journal</td>\n",
              "      <td>Review</td>\n",
              "      <td>[]</td>\n",
              "      <td>None</td>\n",
              "      <td>2022</td>\n",
              "    </tr>\n",
              "    <tr>\n",
              "      <th>1</th>\n",
              "      <td>85106770529</td>\n",
              "      <td>In-silico screening of bioactive phytopeptides...</td>\n",
              "      <td>Journal of Biomolecular Structure and Dynamics</td>\n",
              "      <td>07391102</td>\n",
              "      <td>None</td>\n",
              "      <td>15380254</td>\n",
              "      <td>40</td>\n",
              "      <td>4475-4487</td>\n",
              "      <td>2022-01-01</td>\n",
              "      <td>10.1080/07391102.2020.1859411</td>\n",
              "      <td>4</td>\n",
              "      <td>[{'name': 'Khulna University', 'city': 'Khulna...</td>\n",
              "      <td>Journal</td>\n",
              "      <td>Article</td>\n",
              "      <td>[]</td>\n",
              "      <td>None</td>\n",
              "      <td>2022</td>\n",
              "    </tr>\n",
              "    <tr>\n",
              "      <th>2</th>\n",
              "      <td>85122846488</td>\n",
              "      <td>Structure-Based Virtual Screening for Ligands ...</td>\n",
              "      <td>Pharmacological Reviews</td>\n",
              "      <td>00316997</td>\n",
              "      <td>None</td>\n",
              "      <td>15210081</td>\n",
              "      <td>73</td>\n",
              "      <td>527-656</td>\n",
              "      <td>2021-10-01</td>\n",
              "      <td>10.1124/PHARMREV.120.000246</td>\n",
              "      <td>33</td>\n",
              "      <td>[{'name': 'Uppsala Universitet', 'city': 'Upps...</td>\n",
              "      <td>Journal</td>\n",
              "      <td>Article</td>\n",
              "      <td>[]</td>\n",
              "      <td>None</td>\n",
              "      <td>2021</td>\n",
              "    </tr>\n",
              "  </tbody>\n",
              "</table>\n",
              "</div>\n",
              "    <div class=\"colab-df-buttons\">\n",
              "\n",
              "  <div class=\"colab-df-container\">\n",
              "    <button class=\"colab-df-convert\" onclick=\"convertToInteractive('df-1ac116b2-8dfd-4686-bdf7-a19e9cd59d77')\"\n",
              "            title=\"Convert this dataframe to an interactive table.\"\n",
              "            style=\"display:none;\">\n",
              "\n",
              "  <svg xmlns=\"http://www.w3.org/2000/svg\" height=\"24px\" viewBox=\"0 -960 960 960\">\n",
              "    <path d=\"M120-120v-720h720v720H120Zm60-500h600v-160H180v160Zm220 220h160v-160H400v160Zm0 220h160v-160H400v160ZM180-400h160v-160H180v160Zm440 0h160v-160H620v160ZM180-180h160v-160H180v160Zm440 0h160v-160H620v160Z\"/>\n",
              "  </svg>\n",
              "    </button>\n",
              "\n",
              "  <style>\n",
              "    .colab-df-container {\n",
              "      display:flex;\n",
              "      gap: 12px;\n",
              "    }\n",
              "\n",
              "    .colab-df-convert {\n",
              "      background-color: #E8F0FE;\n",
              "      border: none;\n",
              "      border-radius: 50%;\n",
              "      cursor: pointer;\n",
              "      display: none;\n",
              "      fill: #1967D2;\n",
              "      height: 32px;\n",
              "      padding: 0 0 0 0;\n",
              "      width: 32px;\n",
              "    }\n",
              "\n",
              "    .colab-df-convert:hover {\n",
              "      background-color: #E2EBFA;\n",
              "      box-shadow: 0px 1px 2px rgba(60, 64, 67, 0.3), 0px 1px 3px 1px rgba(60, 64, 67, 0.15);\n",
              "      fill: #174EA6;\n",
              "    }\n",
              "\n",
              "    .colab-df-buttons div {\n",
              "      margin-bottom: 4px;\n",
              "    }\n",
              "\n",
              "    [theme=dark] .colab-df-convert {\n",
              "      background-color: #3B4455;\n",
              "      fill: #D2E3FC;\n",
              "    }\n",
              "\n",
              "    [theme=dark] .colab-df-convert:hover {\n",
              "      background-color: #434B5C;\n",
              "      box-shadow: 0px 1px 3px 1px rgba(0, 0, 0, 0.15);\n",
              "      filter: drop-shadow(0px 1px 2px rgba(0, 0, 0, 0.3));\n",
              "      fill: #FFFFFF;\n",
              "    }\n",
              "  </style>\n",
              "\n",
              "    <script>\n",
              "      const buttonEl =\n",
              "        document.querySelector('#df-1ac116b2-8dfd-4686-bdf7-a19e9cd59d77 button.colab-df-convert');\n",
              "      buttonEl.style.display =\n",
              "        google.colab.kernel.accessAllowed ? 'block' : 'none';\n",
              "\n",
              "      async function convertToInteractive(key) {\n",
              "        const element = document.querySelector('#df-1ac116b2-8dfd-4686-bdf7-a19e9cd59d77');\n",
              "        const dataTable =\n",
              "          await google.colab.kernel.invokeFunction('convertToInteractive',\n",
              "                                                    [key], {});\n",
              "        if (!dataTable) return;\n",
              "\n",
              "        const docLinkHtml = 'Like what you see? Visit the ' +\n",
              "          '<a target=\"_blank\" href=https://colab.research.google.com/notebooks/data_table.ipynb>data table notebook</a>'\n",
              "          + ' to learn more about interactive tables.';\n",
              "        element.innerHTML = '';\n",
              "        dataTable['output_type'] = 'display_data';\n",
              "        await google.colab.output.renderOutput(dataTable, element);\n",
              "        const docLink = document.createElement('div');\n",
              "        docLink.innerHTML = docLinkHtml;\n",
              "        element.appendChild(docLink);\n",
              "      }\n",
              "    </script>\n",
              "  </div>\n",
              "\n",
              "    </div>\n",
              "  </div>\n"
            ]
          },
          "metadata": {},
          "execution_count": 31
        }
      ]
    },
    {
      "cell_type": "markdown",
      "source": [
        "## Frecuencia de publicaciones por año"
      ],
      "metadata": {
        "id": "zRpPePaIwQOD"
      }
    },
    {
      "cell_type": "code",
      "source": [
        "import pandas as pd\n",
        "import seaborn as sns\n",
        "import matplotlib.pyplot as plt\n",
        "import matplotlib.ticker as ticker\n",
        "\n",
        "# Contar las ocurrencias de cada año y ordenar los datos por el índice\n",
        "year_counts = search_df['year'].value_counts().sort_index()\n",
        "\n",
        "# Crear el gráfico de barras con coloración por año\n",
        "ax = sns.barplot(x=year_counts.index, y=year_counts.values, palette='viridis')\n",
        "\n",
        "# Agregar etiquetas y título\n",
        "plt.xlabel('Año')\n",
        "plt.ylabel('Número de publicaciones')\n",
        "plt.title('Publicaciones por año')\n",
        "plt.xticks(rotation=45)\n",
        "\n",
        "# Establecer los valores del eje y\n",
        "ax.set_yticks([1, 2, 3, 4])\n",
        "\n",
        "# Mostrar el gráfico\n",
        "plt.show()"
      ],
      "metadata": {
        "colab": {
          "base_uri": "https://localhost:8080/",
          "height": 492
        },
        "id": "PZUy9u9gyLJp",
        "outputId": "e42bd80a-d0e4-4693-a5a8-1f6c6393f144"
      },
      "execution_count": 32,
      "outputs": [
        {
          "output_type": "display_data",
          "data": {
            "text/plain": [
              "<Figure size 640x480 with 1 Axes>"
            ],
            "image/png": "[encoded data removed]"
          },
          "metadata": {}
        }
      ]
    },
    {
      "cell_type": "code",
      "source": [
        "search_df.citation_count.unique()"
      ],
      "metadata": {
        "colab": {
          "base_uri": "https://localhost:8080/"
        },
        "id": "w-WNXmZRzeps",
        "outputId": "30927886-896e-428b-ae68-0979d5c8261e"
      },
      "execution_count": 33,
      "outputs": [
        {
          "output_type": "execute_result",
          "data": {
            "text/plain": [
              "array([ 1,  4, 33, 22,  5, 13])"
            ]
          },
          "metadata": {},
          "execution_count": 33
        }
      ]
    },
    {
      "cell_type": "code",
      "source": [
        "import pandas as pd\n",
        "import seaborn as sns\n",
        "import matplotlib.pyplot as plt\n",
        "\n",
        "# Crear un DataFrame de ejemplo\n",
        "df = pd.DataFrame(search_df) #.sort_index(ascending=False)\n",
        "\n",
        "# Crear el gráfico de dispersión con coloración por recurrencia\n",
        "sns.scatterplot(data=df, x='publication_name', y='year', hue='citation_count', palette='viridis')\n",
        "\n",
        "# Agregar etiquetas y título\n",
        "plt.xlabel('Revistas')\n",
        "plt.ylabel('Año')\n",
        "plt.title('Revistas y año de publicación')\n",
        "plt.xticks(rotation=90)\n",
        "\n",
        "# Cambiar el título de la leyenda\n",
        "plt.legend(title='Citaciones')\n",
        "\n",
        "# Mostrar el gráfico\n",
        "plt.show()"
      ],
      "metadata": {
        "colab": {
          "base_uri": "https://localhost:8080/",
          "height": 792
        },
        "id": "bKfFDoAa1z-l",
        "outputId": "af7606ac-dcf9-4062-98d6-ad91e4c69ee2"
      },
      "execution_count": 34,
      "outputs": [
        {
          "output_type": "display_data",
          "data": {
            "text/plain": [
              "<Figure size 640x480 with 1 Axes>"
            ],
            "image/png": "[encoded data removed]"
          },
          "metadata": {}
        }
      ]
    },
    {
      "cell_type": "markdown",
      "metadata": {
        "id": "uk2VSNmcUd3V"
      },
      "source": [
        "### Análisis descriptivo"
      ]
    },
    {
      "cell_type": "code",
      "execution_count": 35,
      "metadata": {
        "id": "VyOzn5DVUk39",
        "colab": {
          "base_uri": "https://localhost:8080/"
        },
        "outputId": "f0c24161-2f42-45ec-86f8-dad1c2fd977a"
      },
      "outputs": [
        {
          "output_type": "stream",
          "name": "stdout",
          "text": [
            "Cantidad de Filas y columnas: (6, 17)\n"
          ]
        }
      ],
      "source": [
        "print(\"Cantidad de Filas y columnas:\", search_df.shape)"
      ]
    },
    {
      "cell_type": "code",
      "execution_count": 36,
      "metadata": {
        "id": "wz7_o0l5bIqP",
        "colab": {
          "base_uri": "https://localhost:8080/"
        },
        "outputId": "0131abf0-8737-4c8d-dd09-aa905265f643"
      },
      "outputs": [
        {
          "output_type": "stream",
          "name": "stdout",
          "text": [
            "Nombre columnas: Index(['scopus_id', 'title', 'publication_name', 'issn', 'isbn', 'eissn',\n",
            "       'volume', 'page_range', 'cover_date', 'doi', 'citation_count',\n",
            "       'affiliation', 'aggregation_type', 'subtype_description', 'authors',\n",
            "       'full_text', 'year'],\n",
            "      dtype='object')\n"
          ]
        }
      ],
      "source": [
        "print('Nombre columnas:',search_df.columns)"
      ]
    },
    {
      "cell_type": "code",
      "execution_count": 37,
      "metadata": {
        "id": "0EnIerIwbVRK",
        "colab": {
          "base_uri": "https://localhost:8080/"
        },
        "outputId": "7089ee29-cee2-4fcc-f750-26c20e008b18"
      },
      "outputs": [
        {
          "output_type": "stream",
          "name": "stdout",
          "text": [
            "<class 'pandas.core.frame.DataFrame'>\n",
            "RangeIndex: 6 entries, 0 to 5\n",
            "Data columns (total 17 columns):\n",
            " #   Column               Non-Null Count  Dtype \n",
            "---  ------               --------------  ----- \n",
            " 0   scopus_id            6 non-null      object\n",
            " 1   title                6 non-null      object\n",
            " 2   publication_name     6 non-null      object\n",
            " 3   issn                 6 non-null      object\n",
            " 4   isbn                 0 non-null      object\n",
            " 5   eissn                5 non-null      object\n",
            " 6   volume               6 non-null      object\n",
            " 7   page_range           6 non-null      object\n",
            " 8   cover_date           6 non-null      object\n",
            " 9   doi                  6 non-null      object\n",
            " 10  citation_count       6 non-null      int64 \n",
            " 11  affiliation          5 non-null      object\n",
            " 12  aggregation_type     6 non-null      object\n",
            " 13  subtype_description  6 non-null      object\n",
            " 14  authors              6 non-null      object\n",
            " 15  full_text            1 non-null      object\n",
            " 16  year                 6 non-null      object\n",
            "dtypes: int64(1), object(16)\n",
            "memory usage: 944.0+ bytes\n"
          ]
        }
      ],
      "source": [
        "search_df.info()"
      ]
    },
    {
      "cell_type": "code",
      "execution_count": 38,
      "metadata": {
        "id": "F1YivHHYh4gc",
        "colab": {
          "base_uri": "https://localhost:8080/",
          "height": 792
        },
        "outputId": "6a1bfd75-d2fb-47d7-8c7d-750c31192aff"
      },
      "outputs": [
        {
          "output_type": "display_data",
          "data": {
            "text/plain": [
              "<Figure size 640x480 with 1 Axes>"
            ],
            "image/png": "[encoded data removed]"
          },
          "metadata": {}
        }
      ],
      "source": [
        "import pandas as pd\n",
        "import matplotlib.pyplot as plt\n",
        "\n",
        "# Crear un DataFrame de ejemplo\n",
        "df = pd.DataFrame(search_df)\n",
        "\n",
        "# Crear el gráfico de barras\n",
        "plt.bar(df['publication_name'], df['citation_count'])\n",
        "\n",
        "# Agregar etiquetas y título\n",
        "plt.xlabel('publication_name')\n",
        "plt.ylabel('citation_count')\n",
        "plt.title('citation_count por publication_name')\n",
        "plt.xticks(rotation=90)\n",
        "\n",
        "# Mostrar el gráfico\n",
        "plt.show()"
      ]
    }
  ],
  "metadata": {
    "colab": {
      "provenance": [],
      "include_colab_link": true
    },
    "kernelspec": {
      "display_name": "Python 3",
      "name": "python3"
    },
    "language_info": {
      "name": "python"
    }
  },
  "nbformat": 4,
  "nbformat_minor": 0
}